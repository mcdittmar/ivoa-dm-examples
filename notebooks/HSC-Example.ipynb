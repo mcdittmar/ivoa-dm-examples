{
 "cells": [
  {
   "cell_type": "markdown",
   "metadata": {},
   "source": [
    "## Imports"
   ]
  },
  {
   "cell_type": "code",
   "execution_count": 1,
   "metadata": {},
   "outputs": [],
   "source": [
    "import io\n",
    "import requests\n",
    "\n",
    "from astropy.table import Table\n",
    "from astropy.coordinates import SkyCoord\n",
    "import astropy.units as u\n",
    "from astropy.units import Quantity\n",
    "import numpy as np\n",
    "from astropy.utils.data import download_file\n",
    "from astropy.nddata import Cutout2D\n",
    "from astropy.coordinates import SkyCoord\n",
    "from astropy.wcs import wcs\n",
    "import astropy.io.fits as fits\n",
    "from astropy.io.fits import getdata, getheader\n",
    "\n",
    "import matplotlib.pyplot as plt\n",
    "%matplotlib inline\n",
    "from matplotlib.colors import LogNorm\n",
    "\n",
    "from rama import read, is_template, count, unroll\n",
    "from rama.models.source import Source, SourcePosition, LuminosityMeasurement, Detection\n",
    "from rama.models.coordinates import SpaceFrame\n",
    "from rama.models.photdmalt import PhotometryFilter\n",
    "\n",
    "# Suppress votable parse warnings.\n",
    "import warnings\n",
    "warnings.filterwarnings(\"ignore\")"
   ]
  },
  {
   "cell_type": "markdown",
   "metadata": {},
   "source": [
    "## Data Retrieval"
   ]
  },
  {
   "cell_type": "code",
   "execution_count": 2,
   "metadata": {},
   "outputs": [],
   "source": [
    "def as_icrs_coord(c):\n",
    "    if (type(c) is tuple or type(c) is list) and len(c) == 2:\n",
    "        coords = parse_coordinates(\"{} {}\".format(c[0], c[1]))\n",
    "    elif type(c) is str:\n",
    "        coords = parse_coordinates(coords)\n",
    "    else:\n",
    "        assert isinstance(c, SkyCoord), \"ERROR: cannot parse input coordinates {}\".format(c)\n",
    "        coords = c\n",
    "    icrs = coords.icrs\n",
    "    return icrs\n",
    "\n",
    "def vodml_query(base_url, params):\n",
    "    #Send the request URL.\n",
    "    response = requests.get(base_url, params=params)\n",
    "    \n",
    "    # Make additional file-like object so that the caller can parse it themsselves.\n",
    "    xml = io.BytesIO(response.content)\n",
    "    vodml = read(xml)\n",
    "    \n",
    "    return vodml\n",
    "\n",
    "def cone_search(base_url, coord, radius):\n",
    "    icrs = as_icrs_coord(coord)\n",
    "    \n",
    "    # Cone search params.\n",
    "    params = {'RA': icrs.ra.deg, 'DEC': icrs.dec.deg, 'SR': radius}\n",
    "\n",
    "    return vodml_query(base_url, params)\n",
    "\n",
    "def hsc_matches(coord, radius):\n",
    "    base_url = 'https://masttest.stsci.edu/vodml/Mashup/VoQuery.asmx/HscCone?'\n",
    "    return cone_search(base_url, coord, radius)\n",
    "\n",
    "def hsc_detections(match_id):\n",
    "    val = scalar(match_id)\n",
    "    match_id_str = val\n",
    "    if not isinstance(val, str):\n",
    "        match_id_str = f'{int(val)}'\n",
    "        \n",
    "    base_url = 'https://masttest.stsci.edu/vodml/Mashup/VoQuery.asmx/HscDetections?'\n",
    "    params = {'MATCHID': match_id_str}\n",
    "    return vodml_query(base_url, params)\n",
    "            "
   ]
  },
  {
   "cell_type": "markdown",
   "metadata": {},
   "source": [
    "## Source Utilities"
   ]
  },
  {
   "cell_type": "code",
   "execution_count": 3,
   "metadata": {},
   "outputs": [],
   "source": [
    "def unrolled_instances(vodml, vodml_type):\n",
    "    all_inst = vodml.find_instances(vodml_type)\n",
    "    unrolled_list = []\n",
    "    for inst in all_inst:\n",
    "        if is_template(inst):\n",
    "            unrolled = unroll(inst)\n",
    "            unrolled_list.append(unrolled)\n",
    "            \n",
    "    return unrolled_list      \n",
    "\n",
    "def scalar(q):\n",
    "    val = q.value if isinstance(q, Quantity) else q\n",
    "    return val\n",
    "\n",
    "def get_luminosities(source):\n",
    "    result = []\n",
    "    for lm in source.luminosity:\n",
    "        lm_value = scalar(lm.value)\n",
    "        if lm_value and not np.isnan(lm_value):\n",
    "            result.append(lm)\n",
    "    return result\n",
    "    \n",
    "def get_mag_vals(source, band_name):\n",
    "    mags = []\n",
    "    for lm in get_luminosities(source):\n",
    "        f = lm.filter\n",
    "        if f.band_name == band_name:\n",
    "            mags.append(scalar(lm.value))\n",
    "    return mags\n",
    "\n",
    "def find_bright_sources(inlist, band_name, cutoff):\n",
    "    bright_sources = []\n",
    "    bright_mags = []\n",
    "    for s in inlist:\n",
    "        mags = get_mag_vals(s, band_name)\n",
    "        if mags:\n",
    "            minval = np.min(mags)\n",
    "            if minval <= cutoff:\n",
    "                bright_sources.append(s)\n",
    "                bright_mags.append(minval)\n",
    "\n",
    "    return bright_sources, bright_mags\n"
   ]
  },
  {
   "cell_type": "markdown",
   "metadata": {},
   "source": [
    "## HSC Matches Query"
   ]
  },
  {
   "cell_type": "code",
   "execution_count": 4,
   "metadata": {
    "scrolled": false
   },
   "outputs": [
    {
     "name": "stdout",
     "output_type": "stream",
     "text": [
      "19 matches found.\n"
     ]
    },
    {
     "data": {
      "text/html": [
       "<i>QTable masked=True length=19</i>\n",
       "<table id=\"table4681204008-606907\" class=\"table-striped table-bordered table-condensed\">\n",
       "<thead><tr><th>idx</th><th>MatchID</th><th>Distance</th><th>MatchRA</th><th>MatchDec</th><th>DSigma</th><th>AbsCorr</th><th>NumFilters</th><th>NumVisits</th><th>NumImages</th><th>StartMJD</th><th>StopMJD</th><th>TargetName</th><th>CI</th><th>CI_Sigma</th><th>KronRadius</th><th>KronRadius_Sigma</th><th>Extinction</th><th>SpectrumFlag</th><th>W2_F336W</th><th>W2_F336W_Sigma</th><th>W2_F336W_N</th><th>W2_F439W</th><th>W2_F439W_Sigma</th><th>W2_F439W_N</th><th>W2_F502N</th><th>W2_F502N_Sigma</th><th>W2_F502N_N</th><th>W2_F547M</th><th>W2_F547M_Sigma</th><th>W2_F547M_N</th><th>W2_F555W</th><th>W2_F555W_Sigma</th><th>W2_F555W_N</th><th>W2_F631N</th><th>W2_F631N_Sigma</th><th>W2_F631N_N</th><th>W2_F656N</th><th>W2_F656N_Sigma</th><th>W2_F656N_N</th><th>W2_F658N</th><th>W2_F658N_Sigma</th><th>W2_F658N_N</th><th>W2_F814W</th><th>W2_F814W_Sigma</th><th>W2_F814W_N</th><th>_selected_</th></tr></thead>\n",
       "<thead><tr><th></th><th>none</th><th>arcminutes</th><th>deg</th><th>deg</th><th>mas</th><th></th><th></th><th></th><th></th><th>days</th><th>days</th><th></th><th>ABMAG</th><th>ABMAG</th><th>arcs</th><th>arcs</th><th>ABMAG</th><th></th><th>ABMAG</th><th>ABMAG</th><th>ABMAG</th><th>ABMAG</th><th>ABMAG</th><th>ABMAG</th><th>ABMAG</th><th>ABMAG</th><th>ABMAG</th><th>ABMAG</th><th>ABMAG</th><th>ABMAG</th><th>ABMAG</th><th>ABMAG</th><th>ABMAG</th><th>ABMAG</th><th>ABMAG</th><th>ABMAG</th><th>ABMAG</th><th>ABMAG</th><th>ABMAG</th><th>ABMAG</th><th>ABMAG</th><th>ABMAG</th><th>ABMAG</th><th>ABMAG</th><th>ABMAG</th><th></th></tr></thead>\n",
       "<tr><td>0</td><td>17350615.0</td><td>0.00883306720656974</td><td>148.96888203758</td><td>69.6797072526489</td><td>0.0</td><td>Y</td><td>1</td><td>1</td><td>1</td><td>54834.6258381181</td><td>54834.6575510763</td><td>NGC3034</td><td>3.03022225697835</td><td>0.0</td><td>0.349999994039536</td><td>0.0</td><td>0.153628796339035</td><td>N</td><td>21.7112998962402</td><td>0.0</td><td>1.0</td><td>nan</td><td>nan</td><td>0.0</td><td>nan</td><td>nan</td><td>0.0</td><td>nan</td><td>nan</td><td>0.0</td><td>nan</td><td>nan</td><td>0.0</td><td>nan</td><td>nan</td><td>0.0</td><td>nan</td><td>nan</td><td>0.0</td><td>nan</td><td>nan</td><td>0.0</td><td>nan</td><td>nan</td><td>0.0</td><td>--</td></tr>\n",
       "<tr><td>1</td><td>17112744.0</td><td>0.0131180875647911</td><td>148.968997760412</td><td>69.6795900802937</td><td>24.9352755222915</td><td>Y</td><td>5</td><td>2</td><td>7</td><td>50523.2968749586</td><td>51053.1723864423</td><td>NGC3034-OUTFLOW</td><td>4.40160139654805</td><td>0.201972231036192</td><td>0.455</td><td>5.99588961666477e-17</td><td>0.153628796339035</td><td>N</td><td>nan</td><td>nan</td><td>0.0</td><td>nan</td><td>nan</td><td>0.0</td><td>19.6096000671387</td><td>0.0</td><td>1.0</td><td>19.1471004486084</td><td>0.0</td><td>1.0</td><td>nan</td><td>nan</td><td>0.0</td><td>18.4589004516602</td><td>0.0</td><td>1.0</td><td>16.551344871521</td><td>0.141215544746661</td><td>2.0</td><td>17.1591949462891</td><td>0.258807275140784</td><td>2.0</td><td>nan</td><td>nan</td><td>0.0</td><td>--</td></tr>\n",
       "<tr><td>2</td><td>17115228.0</td><td>0.020600919203083</td><td>148.968682222876</td><td>69.6800372272498</td><td>0.0</td><td>N</td><td>2</td><td>1</td><td>2</td><td>50706.0557152592</td><td>50706.5385857429</td><td>NGC3034B-2</td><td>1.46466158982634</td><td>0.280854668066096</td><td>0.349999994039536</td><td>0.0</td><td>0.153628796339035</td><td>N</td><td>nan</td><td>nan</td><td>0.0</td><td>23.6833992004395</td><td>0.0</td><td>1.0</td><td>nan</td><td>nan</td><td>0.0</td><td>nan</td><td>nan</td><td>0.0</td><td>21.4559001922607</td><td>0.0</td><td>1.0</td><td>nan</td><td>nan</td><td>0.0</td><td>nan</td><td>nan</td><td>0.0</td><td>nan</td><td>nan</td><td>0.0</td><td>nan</td><td>nan</td><td>0.0</td><td>--</td></tr>\n",
       "<tr><td>3</td><td>17111544.0</td><td>0.0303987662778864</td><td>148.967404818518</td><td>69.6793523018495</td><td>0.0</td><td>Y</td><td>1</td><td>1</td><td>1</td><td>51053.0043308656</td><td>51053.0177567475</td><td>NGC3034-OUTFLOW</td><td>0.893353515521277</td><td>0.0</td><td>0.455</td><td>0.0</td><td>0.153628796339035</td><td>N</td><td>nan</td><td>nan</td><td>0.0</td><td>nan</td><td>nan</td><td>0.0</td><td>nan</td><td>nan</td><td>0.0</td><td>nan</td><td>nan</td><td>0.0</td><td>nan</td><td>nan</td><td>0.0</td><td>nan</td><td>nan</td><td>0.0</td><td>19.2964992523193</td><td>0.0</td><td>1.0</td><td>nan</td><td>nan</td><td>0.0</td><td>nan</td><td>nan</td><td>0.0</td><td>--</td></tr>\n",
       "<tr><td>4</td><td>17109683.0</td><td>0.0319055670213261</td><td>148.968358648006</td><td>69.6802334322381</td><td>0.0</td><td>N</td><td>3</td><td>1</td><td>3</td><td>50706.0557152592</td><td>50706.5385857429</td><td>NGC3034B-2</td><td>2.09449786486391</td><td>0.388645102107531</td><td>0.349999994039536</td><td>0.0</td><td>0.153628796339035</td><td>N</td><td>nan</td><td>nan</td><td>0.0</td><td>22.9946994781494</td><td>0.0</td><td>1.0</td><td>nan</td><td>nan</td><td>0.0</td><td>nan</td><td>nan</td><td>0.0</td><td>20.3750991821289</td><td>0.0</td><td>1.0</td><td>nan</td><td>nan</td><td>0.0</td><td>nan</td><td>nan</td><td>0.0</td><td>nan</td><td>nan</td><td>0.0</td><td>18.8915004730225</td><td>0.0</td><td>1.0</td><td>--</td></tr>\n",
       "<tr><td>5</td><td>17114183.0</td><td>0.032588602427965</td><td>148.96711764508</td><td>69.6794230683398</td><td>0.0</td><td>Y</td><td>2</td><td>1</td><td>2</td><td>51053.0043308656</td><td>51053.0362752476</td><td>NGC3034-OUTFLOW</td><td>1.90672206374454</td><td>0.115679347320594</td><td>0.455</td><td>0.0</td><td>0.153628796339035</td><td>N</td><td>nan</td><td>nan</td><td>0.0</td><td>nan</td><td>nan</td><td>0.0</td><td>nan</td><td>nan</td><td>0.0</td><td>nan</td><td>nan</td><td>0.0</td><td>nan</td><td>nan</td><td>0.0</td><td>nan</td><td>nan</td><td>0.0</td><td>18.8257007598877</td><td>0.0</td><td>1.0</td><td>19.4087009429932</td><td>0.0</td><td>1.0</td><td>nan</td><td>nan</td><td>0.0</td><td>--</td></tr>\n",
       "<tr><td>6</td><td>17113460.0</td><td>0.0345891900125784</td><td>148.967783047583</td><td>69.6802294411111</td><td>0.0</td><td>N</td><td>2</td><td>1</td><td>2</td><td>50706.0557152592</td><td>50706.411270882</td><td>NGC3034B-2</td><td>1.49194795240549</td><td>0.305330827860097</td><td>0.349999994039536</td><td>0.0</td><td>0.153628796339035</td><td>N</td><td>nan</td><td>nan</td><td>0.0</td><td>nan</td><td>nan</td><td>0.0</td><td>nan</td><td>nan</td><td>0.0</td><td>nan</td><td>nan</td><td>0.0</td><td>20.3157997131348</td><td>0.0</td><td>1.0</td><td>nan</td><td>nan</td><td>0.0</td><td>nan</td><td>nan</td><td>0.0</td><td>nan</td><td>nan</td><td>0.0</td><td>18.3355007171631</td><td>0.0</td><td>1.0</td><td>--</td></tr>\n",
       "<tr><td>7</td><td>17114343.0</td><td>0.0348678278920604</td><td>148.96909172414</td><td>69.6791649101117</td><td>0.0</td><td>Y</td><td>1</td><td>1</td><td>1</td><td>54834.6258381181</td><td>54834.6575510763</td><td>NGC3034</td><td>2.26777765485975</td><td>0.0</td><td>0.349999994039536</td><td>0.0</td><td>0.153628796339035</td><td>N</td><td>20.3945007324219</td><td>0.0</td><td>1.0</td><td>nan</td><td>nan</td><td>0.0</td><td>nan</td><td>nan</td><td>0.0</td><td>nan</td><td>nan</td><td>0.0</td><td>nan</td><td>nan</td><td>0.0</td><td>nan</td><td>nan</td><td>0.0</td><td>nan</td><td>nan</td><td>0.0</td><td>nan</td><td>nan</td><td>0.0</td><td>nan</td><td>nan</td><td>0.0</td><td>--</td></tr>\n",
       "<tr><td>8</td><td>17111787.0</td><td>0.0363046062064173</td><td>148.968825628571</td><td>69.6802942781797</td><td>124.635228628899</td><td>Y</td><td>5</td><td>2</td><td>5</td><td>50706.0557152592</td><td>51053.1723864423</td><td>NGC3034B-2</td><td>2.43431607887766</td><td>0.195207045634591</td><td>0.433999998807907</td><td>0.0469574301930963</td><td>0.153628796339035</td><td>N</td><td>nan</td><td>nan</td><td>0.0</td><td>nan</td><td>nan</td><td>0.0</td><td>nan</td><td>nan</td><td>0.0</td><td>20.5723991394043</td><td>0.0</td><td>1.0</td><td>21.6469993591309</td><td>0.0</td><td>1.0</td><td>19.9225006103516</td><td>0.0</td><td>1.0</td><td>16.6112003326416</td><td>0.0</td><td>1.0</td><td>17.3407001495361</td><td>0.0</td><td>1.0</td><td>nan</td><td>nan</td><td>0.0</td><td>--</td></tr>\n",
       "<tr><td>9</td><td>17113463.0</td><td>0.0367666114494382</td><td>148.968068160756</td><td>69.6803004122467</td><td>0.0</td><td>Y</td><td>4</td><td>1</td><td>4</td><td>51053.0043308656</td><td>51053.1723864423</td><td>NGC3034-OUTFLOW</td><td>1.64184289396349</td><td>0.377058538806683</td><td>0.455</td><td>0.0</td><td>0.153628796339035</td><td>N</td><td>nan</td><td>nan</td><td>0.0</td><td>nan</td><td>nan</td><td>0.0</td><td>nan</td><td>nan</td><td>0.0</td><td>20.3866996765137</td><td>0.0</td><td>1.0</td><td>nan</td><td>nan</td><td>0.0</td><td>19.3950004577637</td><td>0.0</td><td>1.0</td><td>17.7117004394531</td><td>0.0</td><td>1.0</td><td>18.1098003387451</td><td>0.0</td><td>1.0</td><td>nan</td><td>nan</td><td>0.0</td><td>--</td></tr>\n",
       "<tr><td>10</td><td>17113661.0</td><td>0.0415139494449508</td><td>148.970447869938</td><td>69.679739725425</td><td>0.0</td><td>N</td><td>1</td><td>1</td><td>1</td><td>49972.37936403</td><td>49972.3883917802</td><td>3C231.0</td><td>3.67507545609489</td><td>0.0</td><td>0.455</td><td>0.0</td><td>0.153628796339035</td><td>N</td><td>nan</td><td>nan</td><td>0.0</td><td>nan</td><td>nan</td><td>0.0</td><td>nan</td><td>nan</td><td>0.0</td><td>nan</td><td>nan</td><td>0.0</td><td>nan</td><td>nan</td><td>0.0</td><td>nan</td><td>nan</td><td>0.0</td><td>16.3393898010254</td><td>0.0</td><td>1.0</td><td>nan</td><td>nan</td><td>0.0</td><td>nan</td><td>nan</td><td>0.0</td><td>--</td></tr>\n",
       "<tr><td>11</td><td>17350576.0</td><td>0.0459459997395119</td><td>148.970173139798</td><td>69.6792213855975</td><td>0.0</td><td>Y</td><td>1</td><td>1</td><td>1</td><td>54834.6258381181</td><td>54834.6575510763</td><td>NGC3034</td><td>2.68699990378486</td><td>0.0</td><td>0.349999994039536</td><td>0.0</td><td>0.153628796339035</td><td>N</td><td>20.7677993774414</td><td>0.0</td><td>1.0</td><td>nan</td><td>nan</td><td>0.0</td><td>nan</td><td>nan</td><td>0.0</td><td>nan</td><td>nan</td><td>0.0</td><td>nan</td><td>nan</td><td>0.0</td><td>nan</td><td>nan</td><td>0.0</td><td>nan</td><td>nan</td><td>0.0</td><td>nan</td><td>nan</td><td>0.0</td><td>nan</td><td>nan</td><td>0.0</td><td>--</td></tr>\n",
       "<tr><td>12</td><td>17111042.0</td><td>0.0460651066088448</td><td>148.969264271426</td><td>69.6804177182782</td><td>0.0</td><td>N</td><td>1</td><td>1</td><td>1</td><td>50706.0557152592</td><td>50706.3450671737</td><td>NGC3034B-2</td><td>1.39779074247493</td><td>0.0</td><td>0.349999994039536</td><td>0.0</td><td>0.153628796339035</td><td>N</td><td>nan</td><td>nan</td><td>0.0</td><td>nan</td><td>nan</td><td>0.0</td><td>nan</td><td>nan</td><td>0.0</td><td>nan</td><td>nan</td><td>0.0</td><td>22.1916999816895</td><td>0.0</td><td>1.0</td><td>nan</td><td>nan</td><td>0.0</td><td>nan</td><td>nan</td><td>0.0</td><td>nan</td><td>nan</td><td>0.0</td><td>nan</td><td>nan</td><td>0.0</td><td>--</td></tr>\n",
       "<tr><td>13</td><td>17115009.0</td><td>0.0486935748302968</td><td>148.968319783741</td><td>69.6805129328378</td><td>0.0</td><td>N</td><td>1</td><td>1</td><td>1</td><td>50706.0557152592</td><td>50706.3450671737</td><td>NGC3034B-2</td><td>1.46569762119027</td><td>0.0</td><td>0.349999994039536</td><td>0.0</td><td>0.153628796339035</td><td>N</td><td>nan</td><td>nan</td><td>0.0</td><td>nan</td><td>nan</td><td>0.0</td><td>nan</td><td>nan</td><td>0.0</td><td>nan</td><td>nan</td><td>0.0</td><td>22.6259994506836</td><td>0.0</td><td>1.0</td><td>nan</td><td>nan</td><td>0.0</td><td>nan</td><td>nan</td><td>0.0</td><td>nan</td><td>nan</td><td>0.0</td><td>nan</td><td>nan</td><td>0.0</td><td>--</td></tr>\n",
       "<tr><td>14</td><td>17115007.0</td><td>0.051294558671726</td><td>148.968592473428</td><td>69.6805564386856</td><td>0.0</td><td>Y</td><td>2</td><td>1</td><td>2</td><td>50523.2968749586</td><td>50523.3281249586</td><td>NGC3034-OUTFLOW</td><td>2.00702416572686</td><td>0.267781975657929</td><td>0.455</td><td>0.0</td><td>0.153628796339035</td><td>N</td><td>nan</td><td>nan</td><td>0.0</td><td>nan</td><td>nan</td><td>0.0</td><td>nan</td><td>nan</td><td>0.0</td><td>nan</td><td>nan</td><td>0.0</td><td>nan</td><td>nan</td><td>0.0</td><td>nan</td><td>nan</td><td>0.0</td><td>18.9783916473389</td><td>0.0</td><td>1.0</td><td>19.5443916320801</td><td>0.0</td><td>1.0</td><td>nan</td><td>nan</td><td>0.0</td><td>--</td></tr>\n",
       "<tr><td>15</td><td>17111068.0</td><td>0.0570848838875345</td><td>148.967691997043</td><td>69.6806162425154</td><td>0.0</td><td>N</td><td>3</td><td>1</td><td>3</td><td>50706.0557152592</td><td>50706.5385857429</td><td>NGC3034B-2</td><td>2.19612524643123</td><td>0.242821676160428</td><td>0.349999994039536</td><td>0.0</td><td>0.153628796339035</td><td>N</td><td>nan</td><td>nan</td><td>0.0</td><td>22.0561008453369</td><td>0.0</td><td>1.0</td><td>nan</td><td>nan</td><td>0.0</td><td>nan</td><td>nan</td><td>0.0</td><td>20.0942993164063</td><td>0.0</td><td>1.0</td><td>nan</td><td>nan</td><td>0.0</td><td>nan</td><td>nan</td><td>0.0</td><td>nan</td><td>nan</td><td>0.0</td><td>18.6145992279053</td><td>0.0</td><td>1.0</td><td>--</td></tr>\n",
       "<tr><td>16</td><td>17115017.0</td><td>0.0573387844038235</td><td>148.968071320485</td><td>69.6806489508244</td><td>60.0268185401548</td><td>Y</td><td>4</td><td>2</td><td>6</td><td>50523.2968749586</td><td>51053.1723864423</td><td>NGC3034-OUTFLOW</td><td>2.92195369229696</td><td>0.149714532976349</td><td>0.455</td><td>6.08094194448812e-17</td><td>0.153628796339035</td><td>N</td><td>nan</td><td>nan</td><td>0.0</td><td>nan</td><td>nan</td><td>0.0</td><td>nan</td><td>nan</td><td>0.0</td><td>20.4748992919922</td><td>0.0</td><td>1.0</td><td>nan</td><td>nan</td><td>0.0</td><td>19.671199798584</td><td>0.0</td><td>1.0</td><td>17.2571449279785</td><td>0.0624447707537406</td><td>2.0</td><td>17.8829946517944</td><td>0.120073336834444</td><td>2.0</td><td>nan</td><td>nan</td><td>0.0</td><td>--</td></tr>\n",
       "<tr><td>17</td><td>17110937.0</td><td>0.0580691762704318</td><td>148.970643553938</td><td>69.6803034743607</td><td>0.0</td><td>Y</td><td>1</td><td>1</td><td>1</td><td>54834.6258381181</td><td>54834.6575510763</td><td>NGC3034</td><td>2.29299995634291</td><td>0.0</td><td>0.349999994039536</td><td>0.0</td><td>0.153628796339035</td><td>N</td><td>20.8386001586914</td><td>0.0</td><td>1.0</td><td>nan</td><td>nan</td><td>0.0</td><td>nan</td><td>nan</td><td>0.0</td><td>nan</td><td>nan</td><td>0.0</td><td>nan</td><td>nan</td><td>0.0</td><td>nan</td><td>nan</td><td>0.0</td><td>nan</td><td>nan</td><td>0.0</td><td>nan</td><td>nan</td><td>0.0</td><td>nan</td><td>nan</td><td>0.0</td><td>--</td></tr>\n",
       "<tr><td>18</td><td>17115272.0</td><td>0.0590863973154622</td><td>148.966065014842</td><td>69.6802310518619</td><td>0.0</td><td>N</td><td>1</td><td>1</td><td>1</td><td>49972.37936403</td><td>49972.3883917802</td><td>3C231.0</td><td>3.83957707269674</td><td>0.0</td><td>0.455</td><td>0.0</td><td>0.153628796339035</td><td>N</td><td>nan</td><td>nan</td><td>0.0</td><td>nan</td><td>nan</td><td>0.0</td><td>nan</td><td>nan</td><td>0.0</td><td>nan</td><td>nan</td><td>0.0</td><td>nan</td><td>nan</td><td>0.0</td><td>nan</td><td>nan</td><td>0.0</td><td>16.0931911468506</td><td>0.0</td><td>1.0</td><td>nan</td><td>nan</td><td>0.0</td><td>nan</td><td>nan</td><td>0.0</td><td>--</td></tr>\n",
       "</table><style>table.dataTable {clear: both; width: auto !important; margin: 0 !important;}\n",
       ".dataTables_info, .dataTables_length, .dataTables_filter, .dataTables_paginate{\n",
       "display: inline-block; margin-right: 1em; }\n",
       ".paginate_button { margin-right: 5px; }\n",
       "</style>\n",
       "<script>\n",
       "\n",
       "var astropy_sort_num = function(a, b) {\n",
       "    var a_num = parseFloat(a);\n",
       "    var b_num = parseFloat(b);\n",
       "\n",
       "    if (isNaN(a_num) && isNaN(b_num))\n",
       "        return ((a < b) ? -1 : ((a > b) ? 1 : 0));\n",
       "    else if (!isNaN(a_num) && !isNaN(b_num))\n",
       "        return ((a_num < b_num) ? -1 : ((a_num > b_num) ? 1 : 0));\n",
       "    else\n",
       "        return isNaN(a_num) ? -1 : 1;\n",
       "}\n",
       "\n",
       "require.config({paths: {\n",
       "    datatables: 'https://cdn.datatables.net/1.10.12/js/jquery.dataTables.min'\n",
       "}});\n",
       "require([\"datatables\"], function(){\n",
       "    console.log(\"$('#table4681204008-606907').dataTable()\");\n",
       "    \n",
       "jQuery.extend( jQuery.fn.dataTableExt.oSort, {\n",
       "    \"optionalnum-asc\": astropy_sort_num,\n",
       "    \"optionalnum-desc\": function (a,b) { return -astropy_sort_num(a, b); }\n",
       "});\n",
       "\n",
       "    $('#table4681204008-606907').dataTable({\n",
       "        order: [],\n",
       "        pageLength: 50,\n",
       "        lengthMenu: [[10, 25, 50, 100, 500, 1000, -1], [10, 25, 50, 100, 500, 1000, 'All']],\n",
       "        pagingType: \"full_numbers\",\n",
       "        columnDefs: [{targets: [0, 1, 2, 3, 4, 5, 7, 8, 9, 10, 11, 13, 14, 15, 16, 17, 19, 20, 21, 22, 23, 24, 25, 26, 27, 28, 29, 30, 31, 32, 33, 34, 35, 36, 37, 38, 39, 40, 41, 42, 43, 44, 45], type: \"optionalnum\"}]\n",
       "    });\n",
       "});\n",
       "</script>\n"
      ],
      "text/plain": [
       "<IPython.core.display.HTML object>"
      ]
     },
     "execution_count": 4,
     "metadata": {},
     "output_type": "execute_result"
    }
   ],
   "source": [
    "search_coord = SkyCoord.from_name(\"m82\")\n",
    "search_radius = 0.001 # degrees\n",
    "\n",
    "match_vodml = hsc_matches(search_coord, search_radius)\n",
    "matches = unrolled_instances(match_vodml, Source)[0]\n",
    "\n",
    "match_table = list(match_vodml.tables.values())[0]\n",
    "\n",
    "print(f'{len(match_table)} matches found.')\n",
    "\n",
    "match_table.show_in_notebook()"
   ]
  },
  {
   "cell_type": "code",
   "execution_count": 5,
   "metadata": {
    "scrolled": true
   },
   "outputs": [
    {
     "name": "stdout",
     "output_type": "stream",
     "text": [
      "17350615.0 none, 1, 1\n",
      "17112744.0 none, 7, 5\n",
      "17115228.0 none, 2, 2\n",
      "17111544.0 none, 1, 1\n",
      "17109683.0 none, 3, 3\n",
      "17114183.0 none, 2, 2\n",
      "17113460.0 none, 2, 2\n",
      "17114343.0 none, 1, 1\n",
      "17111787.0 none, 5, 5\n",
      "17113463.0 none, 4, 4\n",
      "17113661.0 none, 1, 1\n",
      "17350576.0 none, 1, 1\n",
      "17111042.0 none, 1, 1\n",
      "17115009.0 none, 1, 1\n",
      "17115007.0 none, 2, 2\n",
      "17111068.0 none, 3, 3\n",
      "17115017.0 none, 6, 4\n",
      "17110937.0 none, 1, 1\n",
      "17115272.0 none, 1, 1\n"
     ]
    }
   ],
   "source": [
    "for i, s in enumerate(matches):\n",
    "    print(f'{match_table[i][\"MatchID\"]}, {match_table[i][\"NumImages\"]}, {len(get_luminosities(s))}')"
   ]
  },
  {
   "cell_type": "markdown",
   "metadata": {},
   "source": [
    "### Find a bright-ish source with multiple luminosties."
   ]
  },
  {
   "cell_type": "code",
   "execution_count": 6,
   "metadata": {},
   "outputs": [
    {
     "name": "stdout",
     "output_type": "stream",
     "text": [
      "Bright source 17111068 (22.0561008453369) has 3 luminosities.\n"
     ]
    }
   ],
   "source": [
    "bright_sources, b_mags = find_bright_sources(matches, 'B', 23)\n",
    "bs_multi = None\n",
    "brightest = 30\n",
    "for i, s in enumerate(bright_sources):\n",
    "    #print(f'Source {int(scalar(s.name))} has b_mag = {b_mags[i]}')\n",
    "    #print(f'{match_table[i][\"MatchID\"]}, {match_table[i][\"NumImages\"]}, {len(get_luminosities(s))}')\n",
    "    \n",
    "    # Save a bright-ish source with multiple luminosities.\n",
    "    if len(get_luminosities(s)) > 1 and b_mags[i] < brightest:\n",
    "        bs_multi = s\n",
    "        brightest = b_mags[i]\n",
    "        \n",
    "print(f'Bright source {int(scalar(bs_multi.name))} ({brightest}) has {len(get_luminosities(bs_multi))} luminosities.')"
   ]
  },
  {
   "cell_type": "markdown",
   "metadata": {},
   "source": [
    "### Load detections for \"bright\" multi-image source"
   ]
  },
  {
   "cell_type": "code",
   "execution_count": 7,
   "metadata": {
    "scrolled": true
   },
   "outputs": [
    {
     "name": "stdout",
     "output_type": "stream",
     "text": [
      "3 detections found.\n"
     ]
    },
    {
     "data": {
      "text/html": [
       "<i>QTable masked=True length=3</i>\n",
       "<table id=\"table4702615872-104625\" class=\"table-striped table-bordered table-condensed\">\n",
       "<thead><tr><th>idx</th><th>CatID</th><th>MatchID</th><th>MemID</th><th>SourceID</th><th>ImageID</th><th>Det</th><th>MatchRA</th><th>MatchDec</th><th>SourceRA</th><th>SourceDec</th><th>D</th><th>DSigma</th><th>AbsCorr</th><th>XImage</th><th>YImage</th><th>ImageName</th><th>Instrument</th><th>Mode</th><th>Detector</th><th>Aperture</th><th>ExposureTime</th><th>StartMJD</th><th>StopMJD</th><th>WaveLength</th><th>Filter</th><th>TargetName</th><th>FluxAper2</th><th>MagAper2</th><th>MagAuto</th><th>PropID</th><th>CI</th><th>KronRadius</th><th>Flags</th><th>naxis</th><th>crpix</th><th>crval</th><th>cd_matrix</th><th>_selected_</th><th>AccessUrlFits</th></tr></thead>\n",
       "<thead><tr><th></th><th></th><th></th><th></th><th>none</th><th>none</th><th></th><th>deg</th><th>deg</th><th>deg</th><th>deg</th><th>mas</th><th></th><th></th><th></th><th></th><th></th><th></th><th></th><th></th><th></th><th>s</th><th>days</th><th>days</th><th></th><th></th><th></th><th>counts/s</th><th>ABMAG</th><th>ABMAG</th><th>none</th><th>ABMAG</th><th>arcs</th><th>none</th><th></th><th></th><th></th><th></th><th></th><th></th></tr></thead>\n",
       "<tr><td>0</td><td>266244160</td><td>17111068</td><td>1</td><td>4662322208.0</td><td>550998.0</td><td>Y</td><td>148.967691997043</td><td>69.6806162425154</td><td>148.967691997043</td><td>69.6806162425154</td><td>0.0</td><td>0.0</td><td>N</td><td>1629.1689453125</td><td>1275.83605957031</td><td>hst_07446_01_wfpc2_f439w_wf</td><td>WFPC2</td><td>IMAGE</td><td>WFPC2</td><td>PC1-FIX</td><td>8500.0</td><td>50706.1911319606</td><td>50706.5385857429</td><td>4311.0</td><td>F439W</td><td>NGC3034B-2</td><td>2.12998008728027</td><td>22.0561008453369</td><td>21.0736999511719</td><td>7446.0</td><td>2.4076405535923</td><td>0.349999994039536</td><td>1.0</td><td>2250 2250</td><td>1125.00 1125.00</td><td>149.00802146 69.67643030</td><td>-2.77778e-005 1.23286e-009 1.23286e-009 2.77778e-005</td><td>--</td><td>https://hla.stsci.edu/cgi-bin/fitscut.cgi?config=hscv2&amp;red=hst_07446_01_wfpc2_f439w_wf&amp;size=ALL&amp;format=fits</td></tr>\n",
       "<tr><td>1</td><td>268050952</td><td>17111068</td><td>2</td><td>4662322208.0</td><td>550998.0</td><td>Y</td><td>148.967691997043</td><td>69.6806162425154</td><td>148.967691997043</td><td>69.6806162425154</td><td>0.0</td><td>0.0</td><td>N</td><td>1629.1689453125</td><td>1275.83605957031</td><td>hst_07446_01_wfpc2_f555w_wf</td><td>WFPC2</td><td>IMAGE</td><td>WFPC2</td><td>PC1-FIX</td><td>5600.0</td><td>50706.0557152592</td><td>50706.3450671737</td><td>5439.0</td><td>F555W</td><td>NGC3034B-2</td><td>68.8655014038086</td><td>20.0942993164063</td><td>19.5186004638672</td><td>7446.0</td><td>2.24976747534996</td><td>0.349999994039536</td><td>1.0</td><td>2250 2250</td><td>1125.00 1125.00</td><td>149.00802146 69.67643030</td><td>-2.77778e-005 1.23286e-009 1.23286e-009 2.77778e-005</td><td>--</td><td>https://hla.stsci.edu/cgi-bin/fitscut.cgi?config=hscv2&amp;red=hst_07446_01_wfpc2_f555w_wf&amp;size=ALL&amp;format=fits</td></tr>\n",
       "<tr><td>2</td><td>257567336</td><td>17111068</td><td>3</td><td>4662322208.0</td><td>550998.0</td><td>Y</td><td>148.967691997043</td><td>69.6806162425154</td><td>148.967691997043</td><td>69.6806162425154</td><td>0.0</td><td>0.0</td><td>N</td><td>1629.1689453125</td><td>1275.83605957031</td><td>hst_07446_01_wfpc2_f814w_wf</td><td>WFPC2</td><td>IMAGE</td><td>WFPC2</td><td>PC1-FIX</td><td>4400.0</td><td>50706.125854169</td><td>50706.411270882</td><td>8012.0</td><td>F814W</td><td>NGC3034B-2</td><td>173.139999389648</td><td>18.6145992279053</td><td>19.6951999664307</td><td>7446.0</td><td>1.93096771035143</td><td>0.349999994039536</td><td>1.0</td><td>2250 2250</td><td>1125.00 1125.00</td><td>149.00802146 69.67643030</td><td>-2.77778e-005 1.23286e-009 1.23286e-009 2.77778e-005</td><td>--</td><td>https://hla.stsci.edu/cgi-bin/fitscut.cgi?config=hscv2&amp;red=hst_07446_01_wfpc2_f814w_wf&amp;size=ALL&amp;format=fits</td></tr>\n",
       "</table><style>table.dataTable {clear: both; width: auto !important; margin: 0 !important;}\n",
       ".dataTables_info, .dataTables_length, .dataTables_filter, .dataTables_paginate{\n",
       "display: inline-block; margin-right: 1em; }\n",
       ".paginate_button { margin-right: 5px; }\n",
       "</style>\n",
       "<script>\n",
       "\n",
       "var astropy_sort_num = function(a, b) {\n",
       "    var a_num = parseFloat(a);\n",
       "    var b_num = parseFloat(b);\n",
       "\n",
       "    if (isNaN(a_num) && isNaN(b_num))\n",
       "        return ((a < b) ? -1 : ((a > b) ? 1 : 0));\n",
       "    else if (!isNaN(a_num) && !isNaN(b_num))\n",
       "        return ((a_num < b_num) ? -1 : ((a_num > b_num) ? 1 : 0));\n",
       "    else\n",
       "        return isNaN(a_num) ? -1 : 1;\n",
       "}\n",
       "\n",
       "require.config({paths: {\n",
       "    datatables: 'https://cdn.datatables.net/1.10.12/js/jquery.dataTables.min'\n",
       "}});\n",
       "require([\"datatables\"], function(){\n",
       "    console.log(\"$('#table4702615872-104625').dataTable()\");\n",
       "    \n",
       "jQuery.extend( jQuery.fn.dataTableExt.oSort, {\n",
       "    \"optionalnum-asc\": astropy_sort_num,\n",
       "    \"optionalnum-desc\": function (a,b) { return -astropy_sort_num(a, b); }\n",
       "});\n",
       "\n",
       "    $('#table4702615872-104625').dataTable({\n",
       "        order: [],\n",
       "        pageLength: 50,\n",
       "        lengthMenu: [[10, 25, 50, 100, 500, 1000, -1], [10, 25, 50, 100, 500, 1000, 'All']],\n",
       "        pagingType: \"full_numbers\",\n",
       "        columnDefs: [{targets: [0, 1, 2, 3, 4, 5, 7, 8, 9, 10, 11, 12, 14, 15, 21, 22, 23, 24, 27, 28, 29, 30, 31, 32, 33], type: \"optionalnum\"}]\n",
       "    });\n",
       "});\n",
       "</script>\n"
      ],
      "text/plain": [
       "<IPython.core.display.HTML object>"
      ]
     },
     "execution_count": 7,
     "metadata": {},
     "output_type": "execute_result"
    }
   ],
   "source": [
    "# Load the detections for that \"bright\" source.\n",
    "det_vodml = hsc_detections(bs_multi.name)\n",
    "detections = unrolled_instances(det_vodml, Detection)[0]\n",
    "\n",
    "det_table = list(det_vodml.tables.values())[0]\n",
    "print(f'{len(det_table)} detections found.')\n",
    "\n",
    "det_table.show_in_notebook()"
   ]
  },
  {
   "cell_type": "markdown",
   "metadata": {},
   "source": [
    "### Dowload detection images"
   ]
  },
  {
   "cell_type": "code",
   "execution_count": 8,
   "metadata": {},
   "outputs": [],
   "source": [
    "det_image_files = [None] * len(detections)\n",
    "for i, det in enumerate(detections):\n",
    "    access_url = det.source_image[0].url\n",
    "    det_image_files[i] = download_file(access_url, cache=True )\n",
    "    "
   ]
  },
  {
   "cell_type": "markdown",
   "metadata": {},
   "source": [
    "### Plot cutouts of the detection from each image."
   ]
  },
  {
   "cell_type": "code",
   "execution_count": 9,
   "metadata": {},
   "outputs": [
    {
     "data": {
      "image/png": "[encoded data removed]",
      "text/plain": [
       "<Figure size 1440x720 with 3 Axes>"
      ]
     },
     "metadata": {},
     "output_type": "display_data"
    }
   ],
   "source": [
    "#Set up the figure.\n",
    "fig = plt.figure(figsize=(20,10))\n",
    "plt.suptitle('Cutouts', fontsize=16)\n",
    "\n",
    "for i, filename in enumerate(det_image_files):\n",
    "    #Make the title be the name of the detection.\n",
    "    det = detections[i]\n",
    "    title = int(scalar(det.name))\n",
    "    ra = det.position[0].coord.icrs.ra.deg\n",
    "    dec = det.position[0].coord.icrs.dec.deg\n",
    "    \n",
    "    # Plot the first image data we find.\n",
    "    hdu_list = fits.open(filename)\n",
    "    for hdu_idx in range(len(hdu_list)):\n",
    "        h = hdu_list[hdu_idx].header\n",
    "        prime_or_image = (hdu_idx == 0) or (h.get('XTENSION') == 'IMAGE')\n",
    "        is_image = (h.get('NAXIS') == 2) and prime_or_image\n",
    "        if (is_image):\n",
    "            break\n",
    "            \n",
    "    #Read in the image, header, and WCS\n",
    "    data = getdata(filename, hdu_idx)\n",
    "    header = getheader(filename, hdu_idx)\n",
    "    w = wcs.WCS(header)\n",
    "\n",
    "    #Make a cutout centered on the detection.\n",
    "    position = SkyCoord(ra, dec, unit = 'deg')\n",
    "    size = 30.0 #* u.arcsec\n",
    "    cutout = Cutout2D(data, position, (size, size), wcs=w)\n",
    "\n",
    "    #Make a subplot for this image.\n",
    "    ax = fig.add_subplot(3,4,i+1)\n",
    "    ax.imshow(cutout.data, cmap='gray_r', origin='lower')\n",
    "    ax.set_title(title)"
   ]
  }
 ],
 "metadata": {
  "kernelspec": {
   "display_name": "Python 3",
   "language": "python",
   "name": "python3"
  },
  "language_info": {
   "codemirror_mode": {
    "name": "ipython",
    "version": 3
   },
   "file_extension": ".py",
   "mimetype": "text/x-python",
   "name": "python",
   "nbconvert_exporter": "python",
   "pygments_lexer": "ipython3",
   "version": "3.6.5"
  }
 },
 "nbformat": 4,
 "nbformat_minor": 2
}
