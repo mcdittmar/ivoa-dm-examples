{
 "cells": [
  {
   "cell_type": "markdown",
   "metadata": {},
   "source": [
    "STC, Cube, Time Series, and VODML Demo\n",
    "==========================\n",
    "\n",
    "O. Laurino - March, 15th 2018\n",
    "\n",
    "Table of Contents\n",
    "---------------------\n",
    "\n",
    "  * [Introduction](#introduction)\n",
    "  * [VODML Parser](#parser)\n",
    "  * [VODML Python framework](#framework)\n",
    "  * [STC](#models)\n",
    "    * [IVOA basic model](#ivoa)\n",
    "    * [Coordinates model](#coords)\n",
    "    * [Measurements model](#meas)\n",
    "    * [A simple Astropy STC client](#astropy)\n",
    "  * [Time Series](#timeseries)\n",
    "    * [Dataset model](#dataset)\n",
    "    * [Cube model](#cube)\n",
    "    * [An advanced plotting client](#plotting)\n",
    "  * [Invariance of VODML serializations](#invariance)  \n",
    "  * [Tests](#tests)\n",
    "  "
   ]
  },
  {
   "cell_type": "markdown",
   "metadata": {},
   "source": [
    "<a id=\"introduction\"></a>\n",
    "Introduction\n",
    "---------------\n",
    "\n",
    "This notebook illustrates a library that will provide a reference implementation for several Virtual Observatory standards produced by the Data Modeling Working Group. The library is named `rama` and it is [available on GitHub](https://github.com/olaurino/rama) as an open source project.\n",
    "\n",
    "In particular, Rama provides:\n",
    "  * serializations of **STC** instances\n",
    "  * serializations of **time series** instances according to the **Cube** model\n",
    "  * a simple serialization of the **Dataset** model that annotates the time series\n",
    "  * a **VODML** Python framework to represent VODML models in Python\n",
    "  * a **VODML Mapping parser** to parse instances of data models from VOTable serializations\n",
    "  * tools to use deserialized object in **Astropy** and **Matplotlib**\n",
    "  \n",
    "The VODML Python framework allows VODML models to be represented as Python data structures (classes and their attributes) in a 1:1 fashion. The parser then deserializes VOTable/VODML instances into such Python structures.\n",
    "\n",
    "These objects, while interoperable, may not be particularly suited for usage with widely used toolkits like Astropy. For this reason Rama provides a mechanism to decorate standard objects with adapters that implement specific objects. For instance, a standard `SkyCoordinate` can be decorated into an Astropy `SkyCoord` object.\n",
    "\n",
    "On the other hand, clients can be created to simplify operations like plotting datasets using Matplotlib, with tools that are aware of a specific set of standard data model types. The VODML framework allows developers that develop against a specific building block data model to find instances of that model in any serialization, no matter how deep those instances are embedded in more specialized data models. For instance, a client that knows how to deal with coordinates and measurements will find those measurements whether they are embedded in objects coming from the Source Data Model, the Cube Data Model, or any other data model that uses coordinates and measurements.\n",
    "\n",
    "This notebook illustrates this use cases.\n",
    "\n",
    "Since different data models can be used to annotate the same VOTable, the information from these models can be combined in clients."
   ]
  },
  {
   "cell_type": "markdown",
   "metadata": {},
   "source": [
    "#### Disclaimer\n",
    "\n",
    "The library is in an advanced stage of development, covering much of the involved standards. Despite such advanced stafe of development, it's still a work in progress and it can change in significant ways. Also, while the main architecture of the library settles, the documentation will likely lag behind. One significant limitation in the current implementation is that the library only supports Python 3.6. While other versions of Python 3 will be supported, Python 2.7 will not."
   ]
  },
  {
   "cell_type": "markdown",
   "metadata": {},
   "source": [
    "<a id=\"parser\"></a>\n",
    "Parsing Instances\n",
    "---------------------\n",
    "\n",
    "One of the most basic features of `rama` is parsing instances of data models serialized according to the [*Mapping VODML instances VOTable*](http://volute.g-vo.org/svn/trunk/projects/dm/vo-dml-mapping/doc/) specification.\n",
    "\n",
    "The file [time-series.vot.xml](/ivoa-dm-examples/notebooks/time-series.vot.xml) contains the serialization of a time series from the [German Astrophysical Virtual Observatory (GAVO)](http://www.g-vo.org/) services. It was reformatted to facilitate visual inspection, and annotated according to the data models being developed in the IVOA Data Modeling Working Group. The original file can be [downloaded from GAVO](http://dc.zah.uni-heidelberg.de/getproduct/k2c9vst/data/MOA-2016-BLG-0254_VST_r_SDSS78.t).\n",
    "\n",
    "The models involved are:\n",
    "  * a [basic `ivoa` model](http://volute.g-vo.org/svn/trunk/projects/dm/vo-dml/models/ivoa/vo-dml/IVOA-v1.0.html) that provides primitive data types\n",
    "  * the [Coordinates model](/ivoa-dm-examples/assets/examples/stc2/current/models/STC_coords-v2.0.html), that defines types that have to do with frames and coordinates.\n",
    "  * the [Measures model](/ivoa-dm-examples/assets/examples/stc2/current/models/STC_meas-v2.0.html), that defines types for measurements, including convenient shortcuts for measurements that are often used in Astronomy, like `SkyPosition`, which represents a celestial coordinate.\n",
    "  * the [Cube model](/ivoa-dm-examples/assets/examples/cube/current/models/Cube-1.0.html), that defines types for multidimensional datasets.\n",
    "  * the [Dataset Metadata model](/ivoa-dm-examples/assets/examples/cube/current/models/DatasetMedata-1.0.html), that defines types for generic dataset metadata.\n",
    "  \n",
    "Note that the models are interoperable through the VODML framework, i.e. each model can reuse types from the other models. This usually means that higher level models are much simpler than lower level models.\n",
    "  \n",
    "The cell below instructs rama to load a VOTable. Additional file format can and will be added (in particular JSON), but by default rama assumes VOTable."
   ]
  },
  {
   "cell_type": "code",
   "execution_count": 1,
   "metadata": {},
   "outputs": [],
   "source": [
    "from rama import read\n",
    "time_series_votable = read('time-series.vot.xml')"
   ]
  },
  {
   "cell_type": "markdown",
   "metadata": {},
   "source": [
    "Rama contains already the Python representation of some standard models. If we are interested in all the positions stored in the file we can import the python class from the measurements model and ask rama to find them for us."
   ]
  },
  {
   "cell_type": "code",
   "execution_count": 2,
   "metadata": {},
   "outputs": [],
   "source": [
    "from rama.models.measurements import SkyPosition\n",
    "sky_positions = time_series_votable.find_instances(SkyPosition)"
   ]
  },
  {
   "cell_type": "markdown",
   "metadata": {},
   "source": [
    "The variable `sky_positions` now contains a list of instances the parser found in the document. The list will be empty if no such instances were found."
   ]
  },
  {
   "cell_type": "code",
   "execution_count": 3,
   "metadata": {},
   "outputs": [
    {
     "data": {
      "text/plain": [
       "1"
      ]
     },
     "execution_count": 3,
     "metadata": {},
     "output_type": "execute_result"
    }
   ],
   "source": [
    "len(sky_positions)"
   ]
  },
  {
   "cell_type": "markdown",
   "metadata": {},
   "source": [
    "Note that instances can actually be *templates*, i.e. they can represent multiple actual instances serialized in a table. You can use the `is_template` function to check if an instance is a template."
   ]
  },
  {
   "cell_type": "code",
   "execution_count": 4,
   "metadata": {},
   "outputs": [
    {
     "name": "stdout",
     "output_type": "stream",
     "text": [
      "\n",
      "original (wrapped) coordinate:\n",
      "  RA=269.82846 deg DEC=-27.99478 deg\n",
      "  Frame=FK4\n",
      "  Equinox=J2000\n",
      "  \n",
      "FK5 J2000 (deg):\n",
      "  RA=269.8288879309586 DEC=-27.994780265793654\n",
      "  \n",
      "FK5 J2000 (centiradian):\n",
      "  RA=470.94025113900176 DEC=-48.860108901043255\n",
      "  \n",
      "ICRS (deg):\n",
      "  RA=269.82888021732947 DEC=-27.99478578599763\n",
      "  \n",
      "Galactic (deg):\n",
      "  l=2.3427001150047997 b=-2.1117089573335974\n",
      "\n"
     ]
    }
   ],
   "source": [
    "coord = sky_positions[0].coord\n",
    "original = coord.__vo_object__\n",
    "\n",
    "from astropy.coordinates import FK5\n",
    "\n",
    "coord_fk5_j2000 = coord.transform_to(FK5(equinox=\"J2000\"))\n",
    "coord_icrs = coord_fk5_j2000.transform_to('icrs')\n",
    "coord_galactic = coord_icrs.galactic\n",
    "\n",
    "print(f\"\"\"\n",
    "original (wrapped) coordinate:\n",
    "  RA={original.ra} DEC={original.dec}\n",
    "  Frame={original.frame.space_ref_frame}\n",
    "  Equinox={original.frame.equinox}\n",
    "  \n",
    "FK5 J2000 (deg):\n",
    "  RA={coord_fk5_j2000.fk5.ra.deg} DEC={coord_fk5_j2000.fk5.dec.deg}\n",
    "  \n",
    "FK5 J2000 (centiradian):\n",
    "  RA={coord_fk5_j2000.fk5.ra.centiradian} DEC={coord_fk5_j2000.fk5.dec.centiradian}\n",
    "  \n",
    "ICRS (deg):\n",
    "  RA={coord_icrs.ra.deg} DEC={coord_icrs.dec.deg}\n",
    "  \n",
    "Galactic (deg):\n",
    "  l={coord_galactic.l.deg} b={coord_galactic.b.deg}\n",
    "\"\"\")"
   ]
  },
  {
   "cell_type": "code",
   "execution_count": 5,
   "metadata": {},
   "outputs": [
    {
     "data": {
      "text/plain": [
       "False"
      ]
     },
     "execution_count": 5,
     "metadata": {},
     "output_type": "execute_result"
    }
   ],
   "source": [
    "from rama import is_template\n",
    "is_template(sky_positions[0])"
   ]
  },
  {
   "cell_type": "code",
   "execution_count": 6,
   "metadata": {},
   "outputs": [
    {
     "name": "stderr",
     "output_type": "stream",
     "text": [
      "WARNING: W20: time-series.vot.xml:1:38: W20: No version number specified in file.  Assuming 1.3 [astropy.io.votable.tree]\n",
      "WARNING: W41: time-series.vot.xml:1:38: W41: An XML namespace is specified, but is incorrect.  Expected 'http://www.ivoa.net/xml/VOTable/v1.3', got 'http://www.ivoa.net/xml/VOTable/v1.4' [astropy.io.votable.tree]\n",
      "WARNING: W10: time-series.vot.xml:2:2: W10: Unknown tag 'VODML'.  Ignoring [astropy.io.votable.tree]\n",
      "WARNING: W10: time-series.vot.xml:3:4: W10: Unknown tag 'MODEL'.  Ignoring [astropy.io.votable.tree]\n",
      "WARNING: W10: time-series.vot.xml:4:6: W10: Unknown tag 'NAME'.  Ignoring [astropy.io.votable.tree]\n",
      "WARNING: W10: time-series.vot.xml:5:6: W10: Unknown tag 'URL'.  Ignoring [astropy.io.votable.tree]\n",
      "WARNING: W10: time-series.vot.xml:7:4: W10: Unknown tag 'MODEL'.  Ignoring [astropy.io.votable.tree]\n",
      "WARNING: W10: time-series.vot.xml:8:6: W10: Unknown tag 'NAME'.  Ignoring [astropy.io.votable.tree]\n",
      "WARNING: W10: time-series.vot.xml:9:6: W10: Unknown tag 'URL'.  Ignoring [astropy.io.votable.tree]\n",
      "WARNING: W10: time-series.vot.xml:11:4: W10: Unknown tag 'MODEL'.  Ignoring [astropy.io.votable.tree]\n",
      "WARNING: W10: time-series.vot.xml:12:6: W10: Unknown tag 'NAME'.  Ignoring [astropy.io.votable.tree]\n",
      "WARNING: W10: time-series.vot.xml:13:6: W10: Unknown tag 'URL'.  Ignoring (suppressing further warnings of this type...) [astropy.io.votable.tree]\n",
      "WARNING: W50: time-series.vot.xml:188:6: W50: Invalid unit string 'adu' [astropy.io.votable.tree]\n",
      "WARNING: W50: time-series.vot.xml:189:6: W50: Invalid unit string 'adu' [astropy.io.votable.tree]\n"
     ]
    }
   ],
   "source": [
    "from rama.models.cube import NDPoint\n",
    "cube_point = time_series_votable.find_instances(NDPoint)[0]"
   ]
  },
  {
   "cell_type": "code",
   "execution_count": 7,
   "metadata": {},
   "outputs": [
    {
     "data": {
      "text/plain": [
       "True"
      ]
     },
     "execution_count": 7,
     "metadata": {},
     "output_type": "execute_result"
    }
   ],
   "source": [
    "is_template(cube_point)"
   ]
  },
  {
   "cell_type": "code",
   "execution_count": 8,
   "metadata": {},
   "outputs": [
    {
     "data": {
      "text/plain": [
       "rama.adapters.cube.CubePoint"
      ]
     },
     "execution_count": 8,
     "metadata": {},
     "output_type": "execute_result"
    }
   ],
   "source": [
    "type(cube_point)"
   ]
  },
  {
   "cell_type": "code",
   "execution_count": 9,
   "metadata": {},
   "outputs": [
    {
     "name": "stdout",
     "output_type": "stream",
     "text": [
      "['hjd', 'position'] ['flux', 'magnitude']\n"
     ]
    }
   ],
   "source": [
    "print(cube_point.independent, cube_point.dependent)"
   ]
  },
  {
   "cell_type": "code",
   "execution_count": 12,
   "metadata": {},
   "outputs": [
    {
     "name": "stdout",
     "output_type": "stream",
     "text": [
      "<rama.adapters.cube.TimeAxis object at 0x7f12371777b8> [<rama.adapters.cube.GenericCoordMeasureAxis object at 0x7f1237177978>, <rama.adapters.cube.GenericCoordMeasureAxis object at 0x7f1237177908>]\n"
     ]
    }
   ],
   "source": [
    "from rama.tools.time import TimeSeries\n",
    "time_series = TimeSeries(cube_point)\n",
    "print(time_series.time, time_series.dependent)"
   ]
  },
  {
   "cell_type": "code",
   "execution_count": 11,
   "metadata": {},
   "outputs": [
    {
     "name": "stdout",
     "output_type": "stream",
     "text": [
      "Populating the interactive namespace from numpy and matplotlib\n"
     ]
    }
   ],
   "source": [
    "%pylab inline"
   ]
  },
  {
   "cell_type": "code",
   "execution_count": 12,
   "metadata": {},
   "outputs": [
    {
     "ename": "TypeError",
     "evalue": "None is not a valid Unit",
     "output_type": "error",
     "traceback": [
      "\u001b[0;31m---------------------------------------------------------------------------\u001b[0m",
      "\u001b[0;31mTypeError\u001b[0m                                 Traceback (most recent call last)",
      "\u001b[0;32m<ipython-input-12-0246bcd6f84f>\u001b[0m in \u001b[0;36m<module>\u001b[0;34m()\u001b[0m\n\u001b[1;32m      1\u001b[0m \u001b[0;32mfrom\u001b[0m \u001b[0mrama\u001b[0m\u001b[0;34m.\u001b[0m\u001b[0mtools\u001b[0m\u001b[0;34m.\u001b[0m\u001b[0mtime\u001b[0m \u001b[0;32mimport\u001b[0m \u001b[0mplot\u001b[0m\u001b[0;34m\u001b[0m\u001b[0m\n\u001b[1;32m      2\u001b[0m \u001b[0mfig\u001b[0m\u001b[0;34m,\u001b[0m \u001b[0max\u001b[0m \u001b[0;34m=\u001b[0m \u001b[0mplt\u001b[0m\u001b[0;34m.\u001b[0m\u001b[0msubplots\u001b[0m\u001b[0;34m(\u001b[0m\u001b[0;36m1\u001b[0m\u001b[0;34m,\u001b[0m \u001b[0;36m1\u001b[0m\u001b[0;34m)\u001b[0m\u001b[0;34m\u001b[0m\u001b[0m\n\u001b[0;32m----> 3\u001b[0;31m \u001b[0mplot\u001b[0m\u001b[0;34m(\u001b[0m\u001b[0max\u001b[0m\u001b[0;34m,\u001b[0m \u001b[0mcube_point\u001b[0m\u001b[0;34m)\u001b[0m\u001b[0;34m\u001b[0m\u001b[0m\n\u001b[0m\u001b[1;32m      4\u001b[0m \u001b[0mfig\u001b[0m\u001b[0;34m.\u001b[0m\u001b[0mtight_layout\u001b[0m\u001b[0;34m(\u001b[0m\u001b[0;34m)\u001b[0m\u001b[0;34m\u001b[0m\u001b[0m\n",
      "\u001b[0;32m/mnt/c/Users/Omar/Projects/stc-examples/rama/rama/tools/time.py\u001b[0m in \u001b[0;36mplot\u001b[0;34m(ax, cube_object, **kwargs)\u001b[0m\n\u001b[1;32m     77\u001b[0m \u001b[0;34m\u001b[0m\u001b[0m\n\u001b[1;32m     78\u001b[0m             \u001b[0;31m# try:\u001b[0m\u001b[0;34m\u001b[0m\u001b[0;34m\u001b[0m\u001b[0m\n\u001b[0;32m---> 79\u001b[0;31m             \u001b[0mplot\u001b[0m \u001b[0;34m=\u001b[0m \u001b[0mplot_ax\u001b[0m\u001b[0;34m.\u001b[0m\u001b[0merrorbar\u001b[0m\u001b[0;34m(\u001b[0m\u001b[0mtime\u001b[0m\u001b[0;34m.\u001b[0m\u001b[0mvalue\u001b[0m\u001b[0;34m,\u001b[0m \u001b[0mdependent\u001b[0m\u001b[0;34m.\u001b[0m\u001b[0mvalue\u001b[0m\u001b[0;34m,\u001b[0m \u001b[0;34m**\u001b[0m\u001b[0mlocal_args\u001b[0m\u001b[0;34m,\u001b[0m \u001b[0myerr\u001b[0m\u001b[0;34m=\u001b[0m\u001b[0mdependent\u001b[0m\u001b[0;34m.\u001b[0m\u001b[0merror\u001b[0m\u001b[0;34m)\u001b[0m\u001b[0;34m\u001b[0m\u001b[0m\n\u001b[0m\u001b[1;32m     80\u001b[0m             \u001b[0;31m# except UnitsError:\u001b[0m\u001b[0;34m\u001b[0m\u001b[0;34m\u001b[0m\u001b[0m\n\u001b[1;32m     81\u001b[0m             \u001b[0;31m#     plot = plot_ax.errorbar(time.value, dependent.value, **local_args)\u001b[0m\u001b[0;34m\u001b[0m\u001b[0;34m\u001b[0m\u001b[0m\n",
      "\u001b[0;32m~/miniconda/envs/ivoa-dm/lib/python3.6/site-packages/matplotlib/__init__.py\u001b[0m in \u001b[0;36minner\u001b[0;34m(ax, *args, **kwargs)\u001b[0m\n\u001b[1;32m   1715\u001b[0m                     warnings.warn(msg % (label_namer, func.__name__),\n\u001b[1;32m   1716\u001b[0m                                   RuntimeWarning, stacklevel=2)\n\u001b[0;32m-> 1717\u001b[0;31m             \u001b[0;32mreturn\u001b[0m \u001b[0mfunc\u001b[0m\u001b[0;34m(\u001b[0m\u001b[0max\u001b[0m\u001b[0;34m,\u001b[0m \u001b[0;34m*\u001b[0m\u001b[0margs\u001b[0m\u001b[0;34m,\u001b[0m \u001b[0;34m**\u001b[0m\u001b[0mkwargs\u001b[0m\u001b[0;34m)\u001b[0m\u001b[0;34m\u001b[0m\u001b[0m\n\u001b[0m\u001b[1;32m   1718\u001b[0m         \u001b[0mpre_doc\u001b[0m \u001b[0;34m=\u001b[0m \u001b[0minner\u001b[0m\u001b[0;34m.\u001b[0m\u001b[0m__doc__\u001b[0m\u001b[0;34m\u001b[0m\u001b[0m\n\u001b[1;32m   1719\u001b[0m         \u001b[0;32mif\u001b[0m \u001b[0mpre_doc\u001b[0m \u001b[0;32mis\u001b[0m \u001b[0;32mNone\u001b[0m\u001b[0;34m:\u001b[0m\u001b[0;34m\u001b[0m\u001b[0m\n",
      "\u001b[0;32m~/miniconda/envs/ivoa-dm/lib/python3.6/site-packages/matplotlib/axes/_axes.py\u001b[0m in \u001b[0;36merrorbar\u001b[0;34m(self, x, y, yerr, xerr, fmt, ecolor, elinewidth, capsize, barsabove, lolims, uplims, xlolims, xuplims, errorevery, capthick, **kwargs)\u001b[0m\n\u001b[1;32m   2797\u001b[0m                 'errorevery has to be a strictly positive integer')\n\u001b[1;32m   2798\u001b[0m \u001b[0;34m\u001b[0m\u001b[0m\n\u001b[0;32m-> 2799\u001b[0;31m         \u001b[0mself\u001b[0m\u001b[0;34m.\u001b[0m\u001b[0m_process_unit_info\u001b[0m\u001b[0;34m(\u001b[0m\u001b[0mxdata\u001b[0m\u001b[0;34m=\u001b[0m\u001b[0mx\u001b[0m\u001b[0;34m,\u001b[0m \u001b[0mydata\u001b[0m\u001b[0;34m=\u001b[0m\u001b[0my\u001b[0m\u001b[0;34m,\u001b[0m \u001b[0mkwargs\u001b[0m\u001b[0;34m=\u001b[0m\u001b[0mkwargs\u001b[0m\u001b[0;34m)\u001b[0m\u001b[0;34m\u001b[0m\u001b[0m\n\u001b[0m\u001b[1;32m   2800\u001b[0m         \u001b[0;32mif\u001b[0m \u001b[0;32mnot\u001b[0m \u001b[0mself\u001b[0m\u001b[0;34m.\u001b[0m\u001b[0m_hold\u001b[0m\u001b[0;34m:\u001b[0m\u001b[0;34m\u001b[0m\u001b[0m\n\u001b[1;32m   2801\u001b[0m             \u001b[0mself\u001b[0m\u001b[0;34m.\u001b[0m\u001b[0mcla\u001b[0m\u001b[0;34m(\u001b[0m\u001b[0;34m)\u001b[0m\u001b[0;34m\u001b[0m\u001b[0m\n",
      "\u001b[0;32m~/miniconda/envs/ivoa-dm/lib/python3.6/site-packages/matplotlib/axes/_base.py\u001b[0m in \u001b[0;36m_process_unit_info\u001b[0;34m(self, xdata, ydata, kwargs)\u001b[0m\n\u001b[1;32m   1992\u001b[0m             \u001b[0;31m# we only need to update if there is nothing set yet.\u001b[0m\u001b[0;34m\u001b[0m\u001b[0;34m\u001b[0m\u001b[0m\n\u001b[1;32m   1993\u001b[0m             \u001b[0;32mif\u001b[0m \u001b[0;32mnot\u001b[0m \u001b[0mself\u001b[0m\u001b[0;34m.\u001b[0m\u001b[0myaxis\u001b[0m\u001b[0;34m.\u001b[0m\u001b[0mhave_units\u001b[0m\u001b[0;34m(\u001b[0m\u001b[0;34m)\u001b[0m\u001b[0;34m:\u001b[0m\u001b[0;34m\u001b[0m\u001b[0m\n\u001b[0;32m-> 1994\u001b[0;31m                 \u001b[0mself\u001b[0m\u001b[0;34m.\u001b[0m\u001b[0myaxis\u001b[0m\u001b[0;34m.\u001b[0m\u001b[0mupdate_units\u001b[0m\u001b[0;34m(\u001b[0m\u001b[0mydata\u001b[0m\u001b[0;34m)\u001b[0m\u001b[0;34m\u001b[0m\u001b[0m\n\u001b[0m\u001b[1;32m   1995\u001b[0m \u001b[0;34m\u001b[0m\u001b[0m\n\u001b[1;32m   1996\u001b[0m         \u001b[0;31m# process kwargs 2nd since these will override default units\u001b[0m\u001b[0;34m\u001b[0m\u001b[0;34m\u001b[0m\u001b[0m\n",
      "\u001b[0;32m~/miniconda/envs/ivoa-dm/lib/python3.6/site-packages/matplotlib/axis.py\u001b[0m in \u001b[0;36mupdate_units\u001b[0;34m(self, data)\u001b[0m\n\u001b[1;32m   1438\u001b[0m         \u001b[0mdefault\u001b[0m \u001b[0;34m=\u001b[0m \u001b[0mself\u001b[0m\u001b[0;34m.\u001b[0m\u001b[0mconverter\u001b[0m\u001b[0;34m.\u001b[0m\u001b[0mdefault_units\u001b[0m\u001b[0;34m(\u001b[0m\u001b[0mdata\u001b[0m\u001b[0;34m,\u001b[0m \u001b[0mself\u001b[0m\u001b[0;34m)\u001b[0m\u001b[0;34m\u001b[0m\u001b[0m\n\u001b[1;32m   1439\u001b[0m         \u001b[0;32mif\u001b[0m \u001b[0mdefault\u001b[0m \u001b[0;32mis\u001b[0m \u001b[0;32mnot\u001b[0m \u001b[0;32mNone\u001b[0m \u001b[0;32mand\u001b[0m \u001b[0mself\u001b[0m\u001b[0;34m.\u001b[0m\u001b[0munits\u001b[0m \u001b[0;32mis\u001b[0m \u001b[0;32mNone\u001b[0m\u001b[0;34m:\u001b[0m\u001b[0;34m\u001b[0m\u001b[0m\n\u001b[0;32m-> 1440\u001b[0;31m             \u001b[0mself\u001b[0m\u001b[0;34m.\u001b[0m\u001b[0mset_units\u001b[0m\u001b[0;34m(\u001b[0m\u001b[0mdefault\u001b[0m\u001b[0;34m)\u001b[0m\u001b[0;34m\u001b[0m\u001b[0m\n\u001b[0m\u001b[1;32m   1441\u001b[0m \u001b[0;34m\u001b[0m\u001b[0m\n\u001b[1;32m   1442\u001b[0m         \u001b[0;32mif\u001b[0m \u001b[0mneednew\u001b[0m\u001b[0;34m:\u001b[0m\u001b[0;34m\u001b[0m\u001b[0m\n",
      "\u001b[0;32m~/miniconda/envs/ivoa-dm/lib/python3.6/site-packages/matplotlib/axis.py\u001b[0m in \u001b[0;36mset_units\u001b[0;34m(self, u)\u001b[0m\n\u001b[1;32m   1503\u001b[0m             \u001b[0mpchanged\u001b[0m \u001b[0;34m=\u001b[0m \u001b[0;32mTrue\u001b[0m\u001b[0;34m\u001b[0m\u001b[0m\n\u001b[1;32m   1504\u001b[0m         \u001b[0;32melse\u001b[0m\u001b[0;34m:\u001b[0m\u001b[0;34m\u001b[0m\u001b[0m\n\u001b[0;32m-> 1505\u001b[0;31m             \u001b[0;32mif\u001b[0m \u001b[0mu\u001b[0m \u001b[0;34m!=\u001b[0m \u001b[0mself\u001b[0m\u001b[0;34m.\u001b[0m\u001b[0munits\u001b[0m\u001b[0;34m:\u001b[0m\u001b[0;34m\u001b[0m\u001b[0m\n\u001b[0m\u001b[1;32m   1506\u001b[0m                 \u001b[0mself\u001b[0m\u001b[0;34m.\u001b[0m\u001b[0munits\u001b[0m \u001b[0;34m=\u001b[0m \u001b[0mu\u001b[0m\u001b[0;34m\u001b[0m\u001b[0m\n\u001b[1;32m   1507\u001b[0m                 \u001b[0mpchanged\u001b[0m \u001b[0;34m=\u001b[0m \u001b[0;32mTrue\u001b[0m\u001b[0;34m\u001b[0m\u001b[0m\n",
      "\u001b[0;32m~/miniconda/envs/ivoa-dm/lib/python3.6/site-packages/astropy/units/core.py\u001b[0m in \u001b[0;36m__ne__\u001b[0;34m(self, other)\u001b[0m\n\u001b[1;32m   1721\u001b[0m \u001b[0;34m\u001b[0m\u001b[0m\n\u001b[1;32m   1722\u001b[0m     \u001b[0;32mdef\u001b[0m \u001b[0m__ne__\u001b[0m\u001b[0;34m(\u001b[0m\u001b[0mself\u001b[0m\u001b[0;34m,\u001b[0m \u001b[0mother\u001b[0m\u001b[0;34m)\u001b[0m\u001b[0;34m:\u001b[0m\u001b[0;34m\u001b[0m\u001b[0m\n\u001b[0;32m-> 1723\u001b[0;31m         \u001b[0;32mreturn\u001b[0m \u001b[0;32mnot\u001b[0m \u001b[0;34m(\u001b[0m\u001b[0mself\u001b[0m \u001b[0;34m==\u001b[0m \u001b[0mother\u001b[0m\u001b[0;34m)\u001b[0m\u001b[0;34m\u001b[0m\u001b[0m\n\u001b[0m\u001b[1;32m   1724\u001b[0m \u001b[0;34m\u001b[0m\u001b[0m\n\u001b[1;32m   1725\u001b[0m     \u001b[0;32mdef\u001b[0m \u001b[0mis_equivalent\u001b[0m\u001b[0;34m(\u001b[0m\u001b[0mself\u001b[0m\u001b[0;34m,\u001b[0m \u001b[0mother\u001b[0m\u001b[0;34m,\u001b[0m \u001b[0mequivalencies\u001b[0m\u001b[0;34m=\u001b[0m\u001b[0;32mNone\u001b[0m\u001b[0;34m)\u001b[0m\u001b[0;34m:\u001b[0m\u001b[0;34m\u001b[0m\u001b[0m\n",
      "\u001b[0;32m~/miniconda/envs/ivoa-dm/lib/python3.6/site-packages/astropy/units/core.py\u001b[0m in \u001b[0;36m__eq__\u001b[0;34m(self, other)\u001b[0m\n\u001b[1;32m   1717\u001b[0m \u001b[0;34m\u001b[0m\u001b[0m\n\u001b[1;32m   1718\u001b[0m     \u001b[0;32mdef\u001b[0m \u001b[0m__eq__\u001b[0m\u001b[0;34m(\u001b[0m\u001b[0mself\u001b[0m\u001b[0;34m,\u001b[0m \u001b[0mother\u001b[0m\u001b[0;34m)\u001b[0m\u001b[0;34m:\u001b[0m\u001b[0;34m\u001b[0m\u001b[0m\n\u001b[0;32m-> 1719\u001b[0;31m         \u001b[0mother\u001b[0m \u001b[0;34m=\u001b[0m \u001b[0mUnit\u001b[0m\u001b[0;34m(\u001b[0m\u001b[0mother\u001b[0m\u001b[0;34m,\u001b[0m \u001b[0mparse_strict\u001b[0m\u001b[0;34m=\u001b[0m\u001b[0;34m'silent'\u001b[0m\u001b[0;34m)\u001b[0m\u001b[0;34m\u001b[0m\u001b[0m\n\u001b[0m\u001b[1;32m   1720\u001b[0m         \u001b[0;32mreturn\u001b[0m \u001b[0misinstance\u001b[0m\u001b[0;34m(\u001b[0m\u001b[0mother\u001b[0m\u001b[0;34m,\u001b[0m \u001b[0mUnrecognizedUnit\u001b[0m\u001b[0;34m)\u001b[0m \u001b[0;32mand\u001b[0m \u001b[0mself\u001b[0m\u001b[0;34m.\u001b[0m\u001b[0mname\u001b[0m \u001b[0;34m==\u001b[0m \u001b[0mother\u001b[0m\u001b[0;34m.\u001b[0m\u001b[0mname\u001b[0m\u001b[0;34m\u001b[0m\u001b[0m\n\u001b[1;32m   1721\u001b[0m \u001b[0;34m\u001b[0m\u001b[0m\n",
      "\u001b[0;32m~/miniconda/envs/ivoa-dm/lib/python3.6/site-packages/astropy/units/core.py\u001b[0m in \u001b[0;36m__call__\u001b[0;34m(self, s, represents, format, namespace, doc, parse_strict)\u001b[0m\n\u001b[1;32m   1826\u001b[0m \u001b[0;34m\u001b[0m\u001b[0m\n\u001b[1;32m   1827\u001b[0m         \u001b[0;32melif\u001b[0m \u001b[0ms\u001b[0m \u001b[0;32mis\u001b[0m \u001b[0;32mNone\u001b[0m\u001b[0;34m:\u001b[0m\u001b[0;34m\u001b[0m\u001b[0m\n\u001b[0;32m-> 1828\u001b[0;31m             \u001b[0;32mraise\u001b[0m \u001b[0mTypeError\u001b[0m\u001b[0;34m(\u001b[0m\u001b[0;34m\"None is not a valid Unit\"\u001b[0m\u001b[0;34m)\u001b[0m\u001b[0;34m\u001b[0m\u001b[0m\n\u001b[0m\u001b[1;32m   1829\u001b[0m \u001b[0;34m\u001b[0m\u001b[0m\n\u001b[1;32m   1830\u001b[0m         \u001b[0;32melse\u001b[0m\u001b[0;34m:\u001b[0m\u001b[0;34m\u001b[0m\u001b[0m\n",
      "\u001b[0;31mTypeError\u001b[0m: None is not a valid Unit"
     ]
    },
    {
     "data": {
      "image/png": "[encoded data removed]",
      "text/plain": [
       "<matplotlib.figure.Figure at 0x7f5d2fa74710>"
      ]
     },
     "metadata": {},
     "output_type": "display_data"
    }
   ],
   "source": [
    "from rama.tools.time import plot\n",
    "fig, ax = plt.subplots(1, 1)\n",
    "plot(ax, cube_point)\n",
    "fig.tight_layout()"
   ]
  },
  {
   "cell_type": "code",
   "execution_count": 13,
   "metadata": {},
   "outputs": [
    {
     "data": {
      "text/latex": [
       "$[0.0021132401,~0.00265446,~0.00242693,~0.0025095099,~0.0025972701,~0.00352634,~0.0025526399,~0.0024312399,~0.0025025301,~0.0027954199,~0.0026737901,~0.0033046601,~0.0027264699,~0.00267969,~0.00333398,~0.0038506901,~0.0032369599,~0.0029654801,~0.0030162099,~0.00357741,~0.0033267401,~0.0035136901,~0.0036655299,~0.0040939199,~0.0043261899,~0.0041653202,~0.0048310002,~0.0046163802,~0.0045754001,~0.0047068601,~0.00361313,~0.0037772199,~0.0038246501,~0.0036682601,~0.0038243199,~0.0040114,~0.00390703,~0.00342238,~0.00358572,~0.0040203398,~0.0039116498,~0.00407595,~0.0035935701,~0.0035015,~0.0037792199,~0.0070879799,~0.0097081801,~0.0037467999,~0.0042105899,~0.0043198001,~0.0039623301,~0.0051359199,~0.00385994,~0.00378902,~0.0039173998,~0.0040123798,~0.0041342,~0.0036299699,~0.00379297,~0.00388522,~0.0040758401,~0.00390029,~0.00350445,~0.00378448,~0.00350231,~0.0047790199,~0.0045482302,~0.00470583,~0.0046665701,~0.0048067798,~0.0042973398,~0.0039506098,~0.0039064102,~0.0038429601,~0.0038387801] \\; \\mathrm{mag}$"
      ],
      "text/plain": [
       "<Quantity [ 0.00211324, 0.00265446, 0.00242693, 0.00250951, 0.00259727,\n",
       "            0.00352634, 0.00255264, 0.00243124, 0.00250253, 0.00279542,\n",
       "            0.00267379, 0.00330466, 0.00272647, 0.00267969, 0.00333398,\n",
       "            0.00385069, 0.00323696, 0.00296548, 0.00301621, 0.00357741,\n",
       "            0.00332674, 0.00351369, 0.00366553, 0.00409392, 0.00432619,\n",
       "            0.00416532, 0.004831  , 0.00461638, 0.0045754 , 0.00470686,\n",
       "            0.00361313, 0.00377722, 0.00382465, 0.00366826, 0.00382432,\n",
       "            0.0040114 , 0.00390703, 0.00342238, 0.00358572, 0.00402034,\n",
       "            0.00391165, 0.00407595, 0.00359357, 0.0035015 , 0.00377922,\n",
       "            0.00708798, 0.00970818, 0.0037468 , 0.00421059, 0.0043198 ,\n",
       "            0.00396233, 0.00513592, 0.00385994, 0.00378902, 0.0039174 ,\n",
       "            0.00401238, 0.0041342 , 0.00362997, 0.00379297, 0.00388522,\n",
       "            0.00407584, 0.00390029, 0.00350445, 0.00378448, 0.00350231,\n",
       "            0.00477902, 0.00454823, 0.00470583, 0.00466657, 0.00480678,\n",
       "            0.00429734, 0.00395061, 0.00390641, 0.00384296, 0.00383878] mag>"
      ]
     },
     "execution_count": 13,
     "metadata": {},
     "output_type": "execute_result"
    }
   ],
   "source": [
    "from rama.tools.time import PlottableAxis\n",
    "PlottableAxis(cube_point._index['magnitude']).error"
   ]
  },
  {
   "cell_type": "code",
   "execution_count": 14,
   "metadata": {},
   "outputs": [
    {
     "ename": "AttributeError",
     "evalue": "'numpy.ndarray' object has no attribute 'value'",
     "output_type": "error",
     "traceback": [
      "\u001b[0;31m---------------------------------------------------------------------------\u001b[0m",
      "\u001b[0;31mAttributeError\u001b[0m                            Traceback (most recent call last)",
      "\u001b[0;32m<ipython-input-14-6da99bee6493>\u001b[0m in \u001b[0;36m<module>\u001b[0;34m()\u001b[0m\n\u001b[1;32m      2\u001b[0m \u001b[0;32mfrom\u001b[0m \u001b[0mastropy\u001b[0m\u001b[0;34m.\u001b[0m\u001b[0mvisualization\u001b[0m \u001b[0;32mimport\u001b[0m \u001b[0mquantity_support\u001b[0m\u001b[0;34m\u001b[0m\u001b[0m\n\u001b[1;32m      3\u001b[0m \u001b[0mquantity_support\u001b[0m\u001b[0;34m(\u001b[0m\u001b[0;34m)\u001b[0m\u001b[0;34m\u001b[0m\u001b[0m\n\u001b[0;32m----> 4\u001b[0;31m \u001b[0mplt\u001b[0m\u001b[0;34m.\u001b[0m\u001b[0merrorbar\u001b[0m\u001b[0;34m(\u001b[0m\u001b[0mtime_series\u001b[0m\u001b[0;34m.\u001b[0m\u001b[0mtime\u001b[0m\u001b[0;34m.\u001b[0m\u001b[0mmeasurement\u001b[0m\u001b[0;34m.\u001b[0m\u001b[0mvalue\u001b[0m\u001b[0;34m,\u001b[0m \u001b[0mtime_series\u001b[0m\u001b[0;34m[\u001b[0m\u001b[0;34m'flux'\u001b[0m\u001b[0;34m]\u001b[0m\u001b[0;34m.\u001b[0m\u001b[0mmeasurement\u001b[0m\u001b[0;34m.\u001b[0m\u001b[0mvalue\u001b[0m\u001b[0;34m,\u001b[0m \u001b[0myerr\u001b[0m\u001b[0;34m=\u001b[0m\u001b[0mtime_series\u001b[0m\u001b[0;34m[\u001b[0m\u001b[0;34m'flux'\u001b[0m\u001b[0;34m]\u001b[0m\u001b[0;34m.\u001b[0m\u001b[0mstat_error\u001b[0m\u001b[0;34m.\u001b[0m\u001b[0mradius\u001b[0m\u001b[0;34m.\u001b[0m\u001b[0mvalue\u001b[0m\u001b[0;34m,\u001b[0m \u001b[0mfmt\u001b[0m\u001b[0;34m=\u001b[0m\u001b[0;34m'.'\u001b[0m\u001b[0;34m)\u001b[0m\u001b[0;34m\u001b[0m\u001b[0m\n\u001b[0m",
      "\u001b[0;31mAttributeError\u001b[0m: 'numpy.ndarray' object has no attribute 'value'"
     ]
    }
   ],
   "source": [
    "from matplotlib import pyplot as plt\n",
    "from astropy.visualization import quantity_support\n",
    "quantity_support()\n",
    "plt.errorbar(time_series.time.measurement.value, time_series['flux'].measurement.value, yerr=time_series['flux'].stat_error.radius.value, fmt='.')"
   ]
  },
  {
   "cell_type": "markdown",
   "metadata": {},
   "source": [
    "So now we can take advantage of Astropy's capabilities to transform the position from one frame to another, or to get the corresponding galactic coordinates."
   ]
  },
  {
   "cell_type": "code",
   "execution_count": 15,
   "metadata": {},
   "outputs": [
    {
     "ename": "NameError",
     "evalue": "name 'VodmlParser' is not defined",
     "output_type": "error",
     "traceback": [
      "\u001b[0;31m---------------------------------------------------------------------------\u001b[0m",
      "\u001b[0;31mNameError\u001b[0m                                 Traceback (most recent call last)",
      "\u001b[0;32m<ipython-input-15-adcdbc51c3ac>\u001b[0m in \u001b[0;36m<module>\u001b[0;34m()\u001b[0m\n\u001b[1;32m      1\u001b[0m \u001b[0mtime_series_xml\u001b[0m \u001b[0;34m=\u001b[0m \u001b[0;34m\"time-series.vot.xml\"\u001b[0m\u001b[0;34m\u001b[0m\u001b[0m\n\u001b[1;32m      2\u001b[0m \u001b[0;34m\u001b[0m\u001b[0m\n\u001b[0;32m----> 3\u001b[0;31m \u001b[0mts_parser\u001b[0m \u001b[0;34m=\u001b[0m \u001b[0mVodmlParser\u001b[0m\u001b[0;34m(\u001b[0m\u001b[0mtime_series_xml\u001b[0m\u001b[0;34m)\u001b[0m\u001b[0;34m\u001b[0m\u001b[0m\n\u001b[0m\u001b[1;32m      4\u001b[0m \u001b[0;34m\u001b[0m\u001b[0m\n\u001b[1;32m      5\u001b[0m \u001b[0mdataset\u001b[0m \u001b[0;34m=\u001b[0m \u001b[0mts_parser\u001b[0m\u001b[0;34m.\u001b[0m\u001b[0mfind_instances\u001b[0m\u001b[0;34m(\u001b[0m\u001b[0mObsDataset\u001b[0m\u001b[0;34m)\u001b[0m\u001b[0;34m[\u001b[0m\u001b[0;36m0\u001b[0m\u001b[0;34m]\u001b[0m\u001b[0;34m\u001b[0m\u001b[0m\n",
      "\u001b[0;31mNameError\u001b[0m: name 'VodmlParser' is not defined"
     ]
    }
   ],
   "source": [
    "time_series_xml = \"time-series.vot.xml\"\n",
    "\n",
    "ts_parser = VodmlParser(time_series_xml)\n",
    "\n",
    "dataset = ts_parser.find_instances(ObsDataset)[0]\n",
    "\n",
    "points = ts_parser.find_instances(NdPoint)\n",
    "ts = points[0]"
   ]
  },
  {
   "cell_type": "markdown",
   "metadata": {},
   "source": [
    "And finally here are the plots. We instantiate the plotting client and then we use it to plot the time series along different axes in 2D plots."
   ]
  },
  {
   "cell_type": "code",
   "execution_count": null,
   "metadata": {},
   "outputs": [],
   "source": [
    "points_plot = NdPointPlot(ts, dataset)\n",
    "points_plot.plot_xy_by_name('hjd', 'flux')\n",
    "points_plot.plot_xy_by_name('hjd', 'magnitude', fmt='g.')\n",
    "points_plot.plot_xy_by_name('flux', 'magnitude', fmt='r.')"
   ]
  },
  {
   "cell_type": "markdown",
   "metadata": {},
   "source": [
    "<a id=\"invariance\"></a>\n",
    "Invariance of VODML serializations\n",
    "=====================\n",
    "\n",
    "We introduced an example with a simple sky position in our first example. Then we parsed a much more complicated serialization of a time series, which also includes positional information.\n",
    "\n",
    "It is worth stressing that despite the fact that the sky position is deep inside an instance of a different data model, the simplistic client we built above still works, i.e.:"
   ]
  },
  {
   "cell_type": "code",
   "execution_count": null,
   "metadata": {},
   "outputs": [],
   "source": [
    "new_pos = ts_parser.find_instances(SkyPosition)[0]\n",
    "new_astro_pos = VoSkyCoord(new_pos)\n",
    "print(new_astro_pos)"
   ]
  },
  {
   "cell_type": "markdown",
   "metadata": {},
   "source": [
    "<a id=\"tests\"></a>\n",
    "Tests\n",
    "==="
   ]
  },
  {
   "cell_type": "code",
   "execution_count": null,
   "metadata": {},
   "outputs": [],
   "source": [
    "assert 10.684591543245 == astropos_fk5_j2000.fk5.ra.deg\n",
    "assert 41.269171456186264 == astropos_fk5_j2000.fk5.dec.deg\n",
    "\n",
    "assert 10.68458000395546 == astropos_icrs.ra.deg\n",
    "assert 41.269169997096114 == astropos_icrs.dec.deg\n",
    "\n",
    "assert_approx_equal(121.17424181434197, astropos_galactic.l.deg, significant=10)\n",
    "assert_approx_equal(-21.57288557543883, astropos_galactic.b.deg, significant=10)"
   ]
  },
  {
   "cell_type": "code",
   "execution_count": null,
   "metadata": {},
   "outputs": [],
   "source": [
    "assert 1 == len(sky_positions)\n",
    "assert 10.34209135 == pos.coord.ra.value\n",
    "assert 41.13232112 == pos.coord.dec.value\n",
    "assert \"FK5\" == pos.coord_frame.space_ref_frame.value\n",
    "assert \"J1975\" == pos.coord_frame.equinox.value\n",
    "assert \"TOPOCENTER\" == pos.coord_frame.ref_position.position.value"
   ]
  },
  {
   "cell_type": "code",
   "execution_count": null,
   "metadata": {},
   "outputs": [],
   "source": [
    "assert 1 == len(points)\n",
    "assert \"TIMESERIES\" == dataset.data_product_type.value\n",
    "assert \"K2C9 VST MOA-2016-BLG-0254_VST_r_SDSS78.t\" == dataset.data_id[0].title.value\n",
    "assert \"ivo://org.gavo.dc/~?k2c9vst/data/?MOA-2016-BLG-0254_VST_r_SDS...\" == dataset.curation[0].publisher_did.value\n",
    "assert \"http://archive.eso.org/wdb/wdb/eso/sched_rep_arc/query?progid...\" == dataset.curation[0].reference[0].ref_code.value"
   ]
  },
  {
   "cell_type": "code",
   "execution_count": null,
   "metadata": {},
   "outputs": [],
   "source": [
    "time = ts.axis[0].instance[0]\n",
    "position = ts.axis[1].instance[0]\n",
    "flux = ts.axis[2].instance[0]\n",
    "magnitude = ts.axis[3].instance[0]\n",
    "\n",
    "assert isinstance(time, StdTimeMeasure)\n",
    "assert isinstance(position, SkyPosition)\n",
    "assert isinstance(flux, GenericCoordMeasure)\n",
    "assert isinstance(magnitude, GenericCoordMeasure)\n",
    "\n",
    "assert 75 == len(time.coord.date)\n",
    "assert 2457557.6532016 == time.coord.date.value[0]\n",
    "assert \"TT\" == time.coord_frame.timescale.value\n",
    "assert \"HELIOCENTER\" == time.coord_frame.ref_position.position.value\n",
    "assert 269.82846 == position.coord.ra.value\n",
    "assert -27.99478 == position.coord.dec.value\n",
    "assert 'deg' == position.coord.ra.unit\n",
    "assert 'deg' == position.coord.dec.unit\n",
    "assert -14776.0666 == flux.coord.cval[1].value\n",
    "assert 261.0369873046875 == flux.error[0].stat_error.radius[-1].value\n",
    "assert 16.40898 == magnitude.coord.cval[2].value\n",
    "assert 0.002509509911760688 == magnitude.error[0].stat_error.radius[3].value\n",
    "\n",
    "assert 'mag' == magnitude.coord.cval.unit\n",
    "assert 'adu' == flux.coord.cval.unit"
   ]
  },
  {
   "cell_type": "markdown",
   "metadata": {},
   "source": [
    "<a id=\"beta_lyr\"></a>\n",
    "Beta Lyr time series from Vizier\n",
    "======================"
   ]
  },
  {
   "cell_type": "code",
   "execution_count": null,
   "metadata": {},
   "outputs": [],
   "source": [
    "betalyr_xml = \"betalyr-vizier.vot.xml\"\n",
    "betalyr_parser = VodmlParser(betalyr_xml)\n",
    "\n",
    "betalyr_dataset = betalyr_parser.find_instances(ObsDataset)[0]\n",
    "betalyr_points = betalyr_parser.find_instances(NdPoint)\n",
    "betalyr = betalyr_points[0]"
   ]
  },
  {
   "cell_type": "code",
   "execution_count": null,
   "metadata": {},
   "outputs": [],
   "source": [
    "betalyr_plot = NdPointPlot(betalyr, betalyr_dataset)"
   ]
  },
  {
   "cell_type": "code",
   "execution_count": null,
   "metadata": {},
   "outputs": [],
   "source": [
    "betalyr_plot.dependent"
   ]
  },
  {
   "cell_type": "code",
   "execution_count": null,
   "metadata": {},
   "outputs": [],
   "source": [
    "betalyr_plot.independent"
   ]
  },
  {
   "cell_type": "code",
   "execution_count": null,
   "metadata": {},
   "outputs": [],
   "source": [
    "betalyr_plot.plot_xy_by_name('j_time', 'j_mag')\n",
    "betalyr_plot.plot_xy_by_name('h_time', 'h_mag')\n",
    "betalyr_plot.plot_xy_by_name('k_time', 'k_mag')\n",
    "betalyr_plot.plot_xy_by_name('l_time', 'l_mag')\n",
    "betalyr_plot.plot_xy_by_name('m_time', 'm_mag')"
   ]
  },
  {
   "cell_type": "markdown",
   "metadata": {},
   "source": [
    "# "
   ]
  },
  {
   "cell_type": "code",
   "execution_count": 25,
   "metadata": {},
   "outputs": [],
   "source": [
    "import numpy as np\n",
    "from astropy import units as u\n",
    "from astropy.visualization import quantity_support\n",
    "quantity_support()\n",
    "x = np.array([1, 2, 3]) * u.Unit('')\n",
    "y = np.array([1, 2, 3]) * u.Unit('Jy')\n",
    "err = np.array([0.1, 0.1, 0.1]) * u.Unit('Jy')"
   ]
  },
  {
   "cell_type": "code",
   "execution_count": 27,
   "metadata": {},
   "outputs": [
    {
     "data": {
      "text/plain": [
       "<Container object of 3 artists>"
      ]
     },
     "execution_count": 27,
     "metadata": {},
     "output_type": "execute_result"
    },
    {
     "data": {
      "image/png": "[encoded data removed]",
      "text/plain": [
       "<matplotlib.figure.Figure at 0x7f5d2f7cd438>"
      ]
     },
     "metadata": {},
     "output_type": "display_data"
    }
   ],
   "source": [
    "from matplotlib import pyplot as plt\n",
    "plt.errorbar(x, y)"
   ]
  },
  {
   "cell_type": "code",
   "execution_count": null,
   "metadata": {},
   "outputs": [],
   "source": []
  }
 ],
 "metadata": {
  "kernelspec": {
   "display_name": "Python 3",
   "language": "python",
   "name": "python3"
  },
  "language_info": {
   "codemirror_mode": {
    "name": "ipython",
    "version": 3
   },
   "file_extension": ".py",
   "mimetype": "text/x-python",
   "name": "python",
   "nbconvert_exporter": "python",
   "pygments_lexer": "ipython3",
   "version": "3.6.4"
  }
 },
 "nbformat": 4,
 "nbformat_minor": 2
}
